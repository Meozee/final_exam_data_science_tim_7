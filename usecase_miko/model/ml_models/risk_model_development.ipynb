{
 "cells": [
  {
   "cell_type": "code",
   "execution_count": 2,
   "id": "4130d939",
   "metadata": {},
   "outputs": [
    {
     "name": "stderr",
     "output_type": "stream",
     "text": [
      "C:\\Users\\ramda\\AppData\\Roaming\\Python\\Python312\\site-packages\\tqdm\\auto.py:21: TqdmWarning: IProgress not found. Please update jupyter and ipywidgets. See https://ipywidgets.readthedocs.io/en/stable/user_install.html\n",
      "  from .autonotebook import tqdm as notebook_tqdm\n"
     ]
    },
    {
     "name": "stdout",
     "output_type": "stream",
     "text": [
      "Semua library berhasil diimpor.\n"
     ]
    }
   ],
   "source": [
    "import pandas as pd\n",
    "import numpy as np\n",
    "import pickle\n",
    "from sqlalchemy import create_engine\n",
    "\n",
    "# Scikit-learn untuk preprocessing dan modeling\n",
    "from sklearn.model_selection import train_test_split\n",
    "from sklearn.pipeline import Pipeline\n",
    "from sklearn.compose import ColumnTransformer\n",
    "from sklearn.preprocessing import StandardScaler, OneHotEncoder\n",
    "from sklearn.impute import SimpleImputer\n",
    "from sklearn.metrics import classification_report, accuracy_score, roc_auc_score\n",
    "\n",
    "# Model dan Explainability\n",
    "import xgboost as xgb\n",
    "import shap\n",
    "\n",
    "print(\"Semua library berhasil diimpor.\")"
   ]
  },
  {
   "cell_type": "code",
   "execution_count": null,
   "id": "1c162c4d",
   "metadata": {},
   "outputs": [
    {
     "name": "stdout",
     "output_type": "stream",
     "text": [
      "Data berhasil dimuat. Jumlah baris: 2105\n"
     ]
    },
    {
     "data": {
      "text/html": [
       "<div>\n",
       "<style scoped>\n",
       "    .dataframe tbody tr th:only-of-type {\n",
       "        vertical-align: middle;\n",
       "    }\n",
       "\n",
       "    .dataframe tbody tr th {\n",
       "        vertical-align: top;\n",
       "    }\n",
       "\n",
       "    .dataframe thead th {\n",
       "        text-align: right;\n",
       "    }\n",
       "</style>\n",
       "<table border=\"1\" class=\"dataframe\">\n",
       "  <thead>\n",
       "    <tr style=\"text-align: right;\">\n",
       "      <th></th>\n",
       "      <th>enroll_id</th>\n",
       "      <th>stu_id</th>\n",
       "      <th>gender</th>\n",
       "      <th>dept_name</th>\n",
       "      <th>course_name</th>\n",
       "      <th>difficulty_level</th>\n",
       "      <th>attendance_percentage</th>\n",
       "      <th>score_midterm</th>\n",
       "      <th>score_final</th>\n",
       "      <th>score_project</th>\n",
       "      <th>grade</th>\n",
       "    </tr>\n",
       "  </thead>\n",
       "  <tbody>\n",
       "    <tr>\n",
       "      <th>0</th>\n",
       "      <td>1</td>\n",
       "      <td>1</td>\n",
       "      <td>Female</td>\n",
       "      <td>Information Technology</td>\n",
       "      <td>Course 1</td>\n",
       "      <td>Easy</td>\n",
       "      <td>65</td>\n",
       "      <td>59</td>\n",
       "      <td>100</td>\n",
       "      <td>78</td>\n",
       "      <td>80</td>\n",
       "    </tr>\n",
       "    <tr>\n",
       "      <th>1</th>\n",
       "      <td>2</td>\n",
       "      <td>1</td>\n",
       "      <td>Female</td>\n",
       "      <td>Information Technology</td>\n",
       "      <td>Course 2</td>\n",
       "      <td>Medium</td>\n",
       "      <td>66</td>\n",
       "      <td>71</td>\n",
       "      <td>64</td>\n",
       "      <td>65</td>\n",
       "      <td>76</td>\n",
       "    </tr>\n",
       "    <tr>\n",
       "      <th>2</th>\n",
       "      <td>3</td>\n",
       "      <td>1</td>\n",
       "      <td>Female</td>\n",
       "      <td>Information Technology</td>\n",
       "      <td>Course 9</td>\n",
       "      <td>Medium</td>\n",
       "      <td>72</td>\n",
       "      <td>45</td>\n",
       "      <td>35</td>\n",
       "      <td>35</td>\n",
       "      <td>32</td>\n",
       "    </tr>\n",
       "    <tr>\n",
       "      <th>3</th>\n",
       "      <td>4</td>\n",
       "      <td>1</td>\n",
       "      <td>Female</td>\n",
       "      <td>Information Technology</td>\n",
       "      <td>Course 7</td>\n",
       "      <td>Hard</td>\n",
       "      <td>40</td>\n",
       "      <td>37</td>\n",
       "      <td>39</td>\n",
       "      <td>45</td>\n",
       "      <td>32</td>\n",
       "    </tr>\n",
       "    <tr>\n",
       "      <th>4</th>\n",
       "      <td>5</td>\n",
       "      <td>1</td>\n",
       "      <td>Female</td>\n",
       "      <td>Information Technology</td>\n",
       "      <td>Course 6</td>\n",
       "      <td>Medium</td>\n",
       "      <td>99</td>\n",
       "      <td>78</td>\n",
       "      <td>58</td>\n",
       "      <td>58</td>\n",
       "      <td>99</td>\n",
       "    </tr>\n",
       "  </tbody>\n",
       "</table>\n",
       "</div>"
      ],
      "text/plain": [
       "   enroll_id  stu_id  gender               dept_name course_name  \\\n",
       "0          1       1  Female  Information Technology    Course 1   \n",
       "1          2       1  Female  Information Technology    Course 2   \n",
       "2          3       1  Female  Information Technology    Course 9   \n",
       "3          4       1  Female  Information Technology    Course 7   \n",
       "4          5       1  Female  Information Technology    Course 6   \n",
       "\n",
       "  difficulty_level  attendance_percentage  score_midterm  score_final  \\\n",
       "0             Easy                     65             59          100   \n",
       "1           Medium                     66             71           64   \n",
       "2           Medium                     72             45           35   \n",
       "3             Hard                     40             37           39   \n",
       "4           Medium                     99             78           58   \n",
       "\n",
       "   score_project  grade  \n",
       "0             78     80  \n",
       "1             65     76  \n",
       "2             35     32  \n",
       "3             45     32  \n",
       "4             58     99  "
      ]
     },
     "execution_count": 3,
     "metadata": {},
     "output_type": "execute_result"
    }
   ],
   "source": [
    "# Ganti dengan kredensial database PostgreSQL Anda\n",
    "# Sebaiknya gunakan environment variables untuk menyimpan informasi ini\n",
    "DB_USER = \"postgres\"\n",
    "DB_PASSWORD = \"DBmiko\"\n",
    "DB_HOST = \"localhost\"\n",
    "DB_PORT = \"5432\"\n",
    "DB_NAME = \"dbexam\"\n",
    "\n",
    "# Buat koneksi ke database\n",
    "db_engine = create_engine(f'postgresql+psycopg2://{DB_USER}:{DB_PASSWORD}@{DB_HOST}:{DB_PORT}/{DB_NAME}')\n",
    "\n",
    "# Query untuk mengambil dan menggabungkan data\n",
    "# Query ini melakukan PIVOT pada tabel assessment\n",
    "sql_query = \"\"\"\n",
    "SELECT\n",
    "    e.enroll_id,\n",
    "    s.stu_id,\n",
    "    s.gender,\n",
    "    d.dept_name,\n",
    "    c.course_name,\n",
    "    cd.difficulty_level,\n",
    "    a.attendance_percentage,\n",
    "    -- Pivoting assessment scores\n",
    "    MAX(CASE WHEN ass.assessment_type = 'Midterm' THEN ass.score END) AS score_midterm,\n",
    "    MAX(CASE WHEN ass.assessment_type = 'Final' THEN ass.score END) AS score_final,\n",
    "    MAX(CASE WHEN ass.assessment_type = 'Project' THEN ass.score END) AS score_project,\n",
    "    e.grade\n",
    "FROM enrollment e\n",
    "LEFT JOIN student s ON e.stu_id = s.stu_id\n",
    "LEFT JOIN department d ON s.dept_id = d.dept_id\n",
    "LEFT JOIN course c ON e.course_id = c.course_id\n",
    "LEFT JOIN course_difficulty cd ON e.course_id = cd.course_id\n",
    "LEFT JOIN attendance a ON e.enroll_id = a.enroll_id\n",
    "LEFT JOIN assessment ass ON e.enroll_id = ass.enroll_id\n",
    "GROUP BY e.enroll_id, s.stu_id, s.gender, d.dept_name, c.course_name, cd.difficulty_level, a.attendance_percentage\n",
    "ORDER BY e.enroll_id;\n",
    "\"\"\"\n",
    "\n",
    "# Baca data ke dalam DataFrame\n",
    "df = pd.read_sql_query(sql_query, db_engine)\n",
    "\n",
    "print(f\"Data berhasil dimuat. Jumlah baris: {len(df)}\")\n",
    "df.head()"
   ]
  },
  {
   "cell_type": "code",
   "execution_count": 4,
   "id": "5a8bf5e8",
   "metadata": {},
   "outputs": [
    {
     "name": "stdout",
     "output_type": "stream",
     "text": [
      "Kolom target 'status' berhasil dibuat.\n",
      "<class 'pandas.core.frame.DataFrame'>\n",
      "RangeIndex: 2105 entries, 0 to 2104\n",
      "Data columns (total 9 columns):\n",
      " #   Column                 Non-Null Count  Dtype \n",
      "---  ------                 --------------  ----- \n",
      " 0   gender                 2105 non-null   object\n",
      " 1   dept_name              2105 non-null   object\n",
      " 2   course_name            2105 non-null   object\n",
      " 3   difficulty_level       2105 non-null   object\n",
      " 4   attendance_percentage  2105 non-null   int64 \n",
      " 5   score_midterm          2105 non-null   int64 \n",
      " 6   score_final            2105 non-null   int64 \n",
      " 7   score_project          2105 non-null   int64 \n",
      " 8   status                 2105 non-null   int64 \n",
      "dtypes: int64(5), object(4)\n",
      "memory usage: 148.1+ KB\n"
     ]
    }
   ],
   "source": [
    "# Membuat target variable 'status' (1 jika Berisiko, 0 jika Aman)\n",
    "# Kita definisikan \"Beresiko\" jika nilai < 55\n",
    "df['status'] = df['grade'].apply(lambda x: 1 if x < 55 else 0)\n",
    "\n",
    "# Menghapus kolom asli 'grade' untuk menghindari data leakage\n",
    "# Juga hapus kolom identifier yang tidak relevan untuk model\n",
    "df = df.drop(columns=['grade', 'enroll_id', 'stu_id'])\n",
    "\n",
    "print(\"Kolom target 'status' berhasil dibuat.\")\n",
    "df.info()"
   ]
  },
  {
   "cell_type": "code",
   "execution_count": 6,
   "id": "251a0fb2",
   "metadata": {},
   "outputs": [
    {
     "name": "stdout",
     "output_type": "stream",
     "text": [
      "Data latih: (1684, 8)\n",
      "Data uji: (421, 8)\n"
     ]
    }
   ],
   "source": [
    "# Pisahkan fitur (X) dan target (y)\n",
    "X = df.drop('status', axis=1)\n",
    "y = df['status']\n",
    "\n",
    "# Bagi data menjadi 80% latih dan 20% uji\n",
    "# `stratify=y` penting untuk memastikan proporsi target sama di data latih dan uji\n",
    "X_train, X_test, y_train, y_test = train_test_split(\n",
    "    X, y, test_size=0.2, random_state=42, stratify=y\n",
    ")\n",
    "\n",
    "print(f\"Data latih: {X_train.shape}\")\n",
    "print(f\"Data uji: {X_test.shape}\")"
   ]
  },
  {
   "cell_type": "code",
   "execution_count": 7,
   "id": "26a40f1e",
   "metadata": {},
   "outputs": [
    {
     "name": "stdout",
     "output_type": "stream",
     "text": [
      "Pipeline pra-pemrosesan berhasil dibuat.\n"
     ]
    }
   ],
   "source": [
    "# Identifikasi nama kolom numerik dan kategorikal\n",
    "numeric_features = ['attendance_percentage', 'score_midterm', 'score_final', 'score_project']\n",
    "categorical_features = ['gender', 'dept_name', 'course_name', 'difficulty_level']\n",
    "\n",
    "# Pipeline untuk memproses data numerik\n",
    "numeric_transformer = Pipeline(steps=[\n",
    "    ('imputer', SimpleImputer(strategy='median')), # Isi data kosong dengan median\n",
    "    ('scaler', StandardScaler()) # Skala data\n",
    "])\n",
    "\n",
    "# Pipeline untuk memproses data kategorikal\n",
    "categorical_transformer = Pipeline(steps=[\n",
    "    ('imputer', SimpleImputer(strategy='most_frequent')), # Isi data kosong dengan modus\n",
    "    ('onehot', OneHotEncoder(handle_unknown='ignore')) # Ubah ke One-Hot Encoding\n",
    "])\n",
    "\n",
    "# Gabungkan kedua pipeline dengan ColumnTransformer\n",
    "preprocessor = ColumnTransformer(\n",
    "    transformers=[\n",
    "        ('num', numeric_transformer, numeric_features),\n",
    "        ('cat', categorical_transformer, categorical_features)\n",
    "    ],\n",
    "    remainder='passthrough' # Biarkan kolom lain (jika ada) tidak diubah\n",
    ")\n",
    "\n",
    "print(\"Pipeline pra-pemrosesan berhasil dibuat.\")"
   ]
  },
  {
   "cell_type": "code",
   "execution_count": 8,
   "id": "2b6fa741",
   "metadata": {},
   "outputs": [
    {
     "name": "stdout",
     "output_type": "stream",
     "text": [
      "Memulai pelatihan model...\n",
      "Pelatihan model selesai.\n"
     ]
    },
    {
     "name": "stderr",
     "output_type": "stream",
     "text": [
      "C:\\Users\\ramda\\AppData\\Roaming\\Python\\Python312\\site-packages\\xgboost\\training.py:183: UserWarning: [21:31:10] WARNING: C:\\actions-runner\\_work\\xgboost\\xgboost\\src\\learner.cc:738: \n",
      "Parameters: { \"use_label_encoder\" } are not used.\n",
      "\n",
      "  bst.update(dtrain, iteration=i, fobj=obj)\n"
     ]
    }
   ],
   "source": [
    "# Definisikan model yang akan digunakan\n",
    "model = xgb.XGBClassifier(use_label_encoder=False, eval_metric='logloss', random_state=42)\n",
    "\n",
    "# Buat pipeline lengkap (preprocessing -> model)\n",
    "full_pipeline = Pipeline(steps=[\n",
    "    ('preprocessor', preprocessor),\n",
    "    ('model', model)\n",
    "])\n",
    "\n",
    "# Latih pipeline pada data latih\n",
    "print(\"Memulai pelatihan model...\")\n",
    "full_pipeline.fit(X_train, y_train)\n",
    "print(\"Pelatihan model selesai.\")"
   ]
  },
  {
   "cell_type": "code",
   "execution_count": 9,
   "id": "cebefc1f",
   "metadata": {},
   "outputs": [
    {
     "name": "stdout",
     "output_type": "stream",
     "text": [
      "Laporan Klasifikasi:\n",
      "              precision    recall  f1-score   support\n",
      "\n",
      "           0       0.90      0.98      0.94       324\n",
      "           1       0.92      0.62      0.74        97\n",
      "\n",
      "    accuracy                           0.90       421\n",
      "   macro avg       0.91      0.80      0.84       421\n",
      "weighted avg       0.90      0.90      0.89       421\n",
      "\n",
      "Accuracy Score: 0.9002\n",
      "ROC AUC Score: 0.8158\n"
     ]
    }
   ],
   "source": [
    "# Buat prediksi pada data uji\n",
    "y_pred = full_pipeline.predict(X_test)\n",
    "y_pred_proba = full_pipeline.predict_proba(X_test)[:, 1]\n",
    "\n",
    "# Tampilkan laporan klasifikasi\n",
    "print(\"Laporan Klasifikasi:\")\n",
    "print(classification_report(y_test, y_pred))\n",
    "\n",
    "# Tampilkan metrik lainnya\n",
    "print(f\"Accuracy Score: {accuracy_score(y_test, y_pred):.4f}\")\n",
    "print(f\"ROC AUC Score: {roc_auc_score(y_test, y_pred_proba):.4f}\")"
   ]
  },
  {
   "cell_type": "code",
   "execution_count": null,
   "id": "549badd2",
   "metadata": {},
   "outputs": [
    {
     "name": "stdout",
     "output_type": "stream",
     "text": [
      "Pipeline lengkap telah disimpan di: ../../ml_models/miko_student_risk_pipeline.pkl\n"
     ]
    }
   ],
   "source": [
    "# Simpan seluruh pipeline ke dalam satu file .pkl\n",
    "# Ini adalah praktik terbaik karena sudah mencakup preprocessor dan model\n",
    "MODEL_PATH = '../../ml_models/risk_model_development/miko_student_risk_pipeline.pkl' # Sesuaikan path\n",
    "\n",
    "with open(MODEL_PATH, 'wb') as f:\n",
    "    pickle.dump(full_pipeline, f)\n",
    "\n",
    "print(f\"Pipeline lengkap telah disimpan di: {MODEL_PATH}\")"
   ]
  },
  {
   "cell_type": "code",
   "execution_count": 14,
   "id": "68170853",
   "metadata": {},
   "outputs": [
    {
     "name": "stdout",
     "output_type": "stream",
     "text": [
      "SHAP Explainer telah disimpan di: ../../ml_models/risk_model_development/miko_shap_explainer.pkl\n",
      "Nama Fitur telah disimpan di: ../../ml_models/risk_model_development/miko_feature_names.pkl\n"
     ]
    }
   ],
   "source": [
    "# Ambil preprocessor dan model dari pipeline\n",
    "preprocessor_fitted = full_pipeline.named_steps['preprocessor']\n",
    "model_fitted = full_pipeline.named_steps['model']\n",
    "\n",
    "# Dapatkan nama fitur setelah diproses (terutama setelah OneHotEncoding)\n",
    "feature_names_processed = preprocessor_fitted.get_feature_names_out()\n",
    "\n",
    "# Buat SHAP Explainer khusus untuk model tree-based (XGBoost)\n",
    "explainer = shap.TreeExplainer(model_fitted)\n",
    "\n",
    "# Simpan explainer dan nama fitur\n",
    "EXPLAINER_PATH = '../../ml_models/risk_model_development/miko_shap_explainer.pkl'\n",
    "FEATURES_PATH = '../../ml_models/risk_model_development/miko_feature_names.pkl'\n",
    "\n",
    "with open(EXPLAINER_PATH, 'wb') as f:\n",
    "    pickle.dump(explainer, f)\n",
    "\n",
    "with open(FEATURES_PATH, 'wb') as f:\n",
    "    pickle.dump(feature_names_processed, f)\n",
    "\n",
    "print(f\"SHAP Explainer telah disimpan di: {EXPLAINER_PATH}\")\n",
    "print(f\"Nama Fitur telah disimpan di: {FEATURES_PATH}\")"
   ]
  }
 ],
 "metadata": {
  "kernelspec": {
   "display_name": "Python 3",
   "language": "python",
   "name": "python3"
  },
  "language_info": {
   "codemirror_mode": {
    "name": "ipython",
    "version": 3
   },
   "file_extension": ".py",
   "mimetype": "text/x-python",
   "name": "python",
   "nbconvert_exporter": "python",
   "pygments_lexer": "ipython3",
   "version": "3.12.6"
  }
 },
 "nbformat": 4,
 "nbformat_minor": 5
}
