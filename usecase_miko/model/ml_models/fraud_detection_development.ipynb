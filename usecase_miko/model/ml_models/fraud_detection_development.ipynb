{
 "cells": [
  {
   "cell_type": "code",
   "execution_count": 1,
   "id": "b89a3c15",
   "metadata": {},
   "outputs": [
    {
     "name": "stdout",
     "output_type": "stream",
     "text": [
      "Library berhasil diimpor.\n"
     ]
    }
   ],
   "source": [
    "import pandas as pd\n",
    "import numpy as np\n",
    "import pickle\n",
    "from sqlalchemy import create_engine\n",
    "\n",
    "from sklearn.preprocessing import StandardScaler\n",
    "from sklearn.ensemble import IsolationForest\n",
    "\n",
    "print(\"Library berhasil diimpor.\")"
   ]
  },
  {
   "cell_type": "code",
   "execution_count": 2,
   "id": "7923b93c",
   "metadata": {},
   "outputs": [
    {
     "name": "stdout",
     "output_type": "stream",
     "text": [
      "Data berhasil dimuat. Jumlah baris: 6315\n"
     ]
    },
    {
     "data": {
      "text/html": [
       "<div>\n",
       "<style scoped>\n",
       "    .dataframe tbody tr th:only-of-type {\n",
       "        vertical-align: middle;\n",
       "    }\n",
       "\n",
       "    .dataframe tbody tr th {\n",
       "        vertical-align: top;\n",
       "    }\n",
       "\n",
       "    .dataframe thead th {\n",
       "        text-align: right;\n",
       "    }\n",
       "</style>\n",
       "<table border=\"1\" class=\"dataframe\">\n",
       "  <thead>\n",
       "    <tr style=\"text-align: right;\">\n",
       "      <th></th>\n",
       "      <th>enroll_id</th>\n",
       "      <th>stu_id</th>\n",
       "      <th>gender</th>\n",
       "      <th>dept_name</th>\n",
       "      <th>course_name</th>\n",
       "      <th>assessment_type</th>\n",
       "      <th>score</th>\n",
       "      <th>attendance_percentage</th>\n",
       "      <th>historical_avg_score</th>\n",
       "    </tr>\n",
       "  </thead>\n",
       "  <tbody>\n",
       "    <tr>\n",
       "      <th>0</th>\n",
       "      <td>1</td>\n",
       "      <td>1</td>\n",
       "      <td>Female</td>\n",
       "      <td>Information Technology</td>\n",
       "      <td>Course 1</td>\n",
       "      <td>Final</td>\n",
       "      <td>100</td>\n",
       "      <td>65</td>\n",
       "      <td>79.000000</td>\n",
       "    </tr>\n",
       "    <tr>\n",
       "      <th>1</th>\n",
       "      <td>1</td>\n",
       "      <td>1</td>\n",
       "      <td>Female</td>\n",
       "      <td>Information Technology</td>\n",
       "      <td>Course 1</td>\n",
       "      <td>Midterm</td>\n",
       "      <td>59</td>\n",
       "      <td>65</td>\n",
       "      <td>79.000000</td>\n",
       "    </tr>\n",
       "    <tr>\n",
       "      <th>2</th>\n",
       "      <td>1</td>\n",
       "      <td>1</td>\n",
       "      <td>Female</td>\n",
       "      <td>Information Technology</td>\n",
       "      <td>Course 1</td>\n",
       "      <td>Project</td>\n",
       "      <td>78</td>\n",
       "      <td>65</td>\n",
       "      <td>79.000000</td>\n",
       "    </tr>\n",
       "    <tr>\n",
       "      <th>3</th>\n",
       "      <td>2</td>\n",
       "      <td>1</td>\n",
       "      <td>Female</td>\n",
       "      <td>Information Technology</td>\n",
       "      <td>Course 2</td>\n",
       "      <td>Midterm</td>\n",
       "      <td>71</td>\n",
       "      <td>66</td>\n",
       "      <td>72.833333</td>\n",
       "    </tr>\n",
       "    <tr>\n",
       "      <th>4</th>\n",
       "      <td>2</td>\n",
       "      <td>1</td>\n",
       "      <td>Female</td>\n",
       "      <td>Information Technology</td>\n",
       "      <td>Course 2</td>\n",
       "      <td>Final</td>\n",
       "      <td>64</td>\n",
       "      <td>66</td>\n",
       "      <td>72.833333</td>\n",
       "    </tr>\n",
       "  </tbody>\n",
       "</table>\n",
       "</div>"
      ],
      "text/plain": [
       "   enroll_id  stu_id  gender               dept_name course_name  \\\n",
       "0          1       1  Female  Information Technology    Course 1   \n",
       "1          1       1  Female  Information Technology    Course 1   \n",
       "2          1       1  Female  Information Technology    Course 1   \n",
       "3          2       1  Female  Information Technology    Course 2   \n",
       "4          2       1  Female  Information Technology    Course 2   \n",
       "\n",
       "  assessment_type  score  attendance_percentage  historical_avg_score  \n",
       "0           Final    100                     65             79.000000  \n",
       "1         Midterm     59                     65             79.000000  \n",
       "2         Project     78                     65             79.000000  \n",
       "3         Midterm     71                     66             72.833333  \n",
       "4           Final     64                     66             72.833333  "
      ]
     },
     "execution_count": 2,
     "metadata": {},
     "output_type": "execute_result"
    }
   ],
   "source": [
    "# Ganti dengan kredensial database PostgreSQL Anda\n",
    "DB_USER = \"postgres\"\n",
    "DB_PASSWORD = \"DBmiko\"\n",
    "DB_NAME = \"dbexam\"\n",
    "DB_HOST = \"localhost\"\n",
    "DB_PORT = \"5432\"\n",
    "\n",
    "db_engine = create_engine(f'postgresql+psycopg2://{DB_USER}:{DB_PASSWORD}@{DB_HOST}:{DB_PORT}/{DB_NAME}')\n",
    "\n",
    "# Kueri untuk mengambil data dan menghitung rata-rata skor historis per mahasiswa\n",
    "sql_query = \"\"\"\n",
    "SELECT\n",
    "    e.enroll_id,\n",
    "    e.stu_id,\n",
    "    s.gender,\n",
    "    d.dept_name,\n",
    "    c.course_name,\n",
    "    ass.assessment_type,\n",
    "    ass.score,\n",
    "    a.attendance_percentage,\n",
    "    -- Menghitung rata-rata skor semua assessment sebelumnya untuk mahasiswa ini\n",
    "    AVG(ass.score) OVER (PARTITION BY e.stu_id ORDER BY e.semester_id, e.course_id) as historical_avg_score\n",
    "FROM enrollment e\n",
    "JOIN student s ON e.stu_id = s.stu_id\n",
    "JOIN department d ON s.dept_id = d.dept_id\n",
    "JOIN course c ON e.course_id = c.course_id\n",
    "JOIN assessment ass ON e.enroll_id = ass.enroll_id\n",
    "JOIN attendance a ON e.enroll_id = a.enroll_id;\n",
    "\"\"\"\n",
    "df = pd.read_sql_query(sql_query, db_engine)\n",
    "\n",
    "print(f\"Data berhasil dimuat. Jumlah baris: {len(df)}\")\n",
    "df.head()"
   ]
  },
  {
   "cell_type": "code",
   "execution_count": 3,
   "id": "dd02a930",
   "metadata": {},
   "outputs": [
    {
     "name": "stdout",
     "output_type": "stream",
     "text": [
      "Memulai Feature Engineering...\n",
      "Feature Engineering selesai.\n"
     ]
    },
    {
     "data": {
      "text/html": [
       "<div>\n",
       "<style scoped>\n",
       "    .dataframe tbody tr th:only-of-type {\n",
       "        vertical-align: middle;\n",
       "    }\n",
       "\n",
       "    .dataframe tbody tr th {\n",
       "        vertical-align: top;\n",
       "    }\n",
       "\n",
       "    .dataframe thead th {\n",
       "        text-align: right;\n",
       "    }\n",
       "</style>\n",
       "<table border=\"1\" class=\"dataframe\">\n",
       "  <thead>\n",
       "    <tr style=\"text-align: right;\">\n",
       "      <th></th>\n",
       "      <th>score</th>\n",
       "      <th>attendance_percentage</th>\n",
       "      <th>historical_avg_score</th>\n",
       "      <th>score_jump</th>\n",
       "      <th>z_score_deviation</th>\n",
       "      <th>high_score_low_attendance</th>\n",
       "    </tr>\n",
       "  </thead>\n",
       "  <tbody>\n",
       "    <tr>\n",
       "      <th>0</th>\n",
       "      <td>100</td>\n",
       "      <td>65</td>\n",
       "      <td>79.000000</td>\n",
       "      <td>21.000000</td>\n",
       "      <td>1.546735</td>\n",
       "      <td>0</td>\n",
       "    </tr>\n",
       "    <tr>\n",
       "      <th>1</th>\n",
       "      <td>59</td>\n",
       "      <td>65</td>\n",
       "      <td>79.000000</td>\n",
       "      <td>-20.000000</td>\n",
       "      <td>-0.527182</td>\n",
       "      <td>0</td>\n",
       "    </tr>\n",
       "    <tr>\n",
       "      <th>2</th>\n",
       "      <td>78</td>\n",
       "      <td>65</td>\n",
       "      <td>79.000000</td>\n",
       "      <td>-1.000000</td>\n",
       "      <td>0.460883</td>\n",
       "      <td>0</td>\n",
       "    </tr>\n",
       "    <tr>\n",
       "      <th>3</th>\n",
       "      <td>71</td>\n",
       "      <td>66</td>\n",
       "      <td>72.833333</td>\n",
       "      <td>-1.833333</td>\n",
       "      <td>0.093918</td>\n",
       "      <td>0</td>\n",
       "    </tr>\n",
       "    <tr>\n",
       "      <th>4</th>\n",
       "      <td>64</td>\n",
       "      <td>66</td>\n",
       "      <td>72.833333</td>\n",
       "      <td>-8.833333</td>\n",
       "      <td>-0.276212</td>\n",
       "      <td>0</td>\n",
       "    </tr>\n",
       "  </tbody>\n",
       "</table>\n",
       "</div>"
      ],
      "text/plain": [
       "   score  attendance_percentage  historical_avg_score  score_jump  \\\n",
       "0    100                     65             79.000000   21.000000   \n",
       "1     59                     65             79.000000  -20.000000   \n",
       "2     78                     65             79.000000   -1.000000   \n",
       "3     71                     66             72.833333   -1.833333   \n",
       "4     64                     66             72.833333   -8.833333   \n",
       "\n",
       "   z_score_deviation  high_score_low_attendance  \n",
       "0           1.546735                          0  \n",
       "1          -0.527182                          0  \n",
       "2           0.460883                          0  \n",
       "3           0.093918                          0  \n",
       "4          -0.276212                          0  "
      ]
     },
     "execution_count": 3,
     "metadata": {},
     "output_type": "execute_result"
    }
   ],
   "source": [
    "print(\"Memulai Feature Engineering...\")\n",
    "\n",
    "# 1. Skor Lompatan Drastis\n",
    "# Jika historical_avg_score nol (mahasiswa baru), lompatannya dianggap 0\n",
    "df['score_jump'] = df['score'] - df['historical_avg_score'].fillna(df['score'])\n",
    "\n",
    "# 2. Penyimpangan dari Rata-rata Kelas\n",
    "# Hitung rata-rata skor per assessment di setiap course\n",
    "class_avg = df.groupby(['course_name', 'assessment_type'])['score'].transform('mean')\n",
    "class_std = df.groupby(['course_name', 'assessment_type'])['score'].transform('std').fillna(1)\n",
    "df['z_score_deviation'] = (df['score'] - class_avg) / class_std\n",
    "\n",
    "# 3. Fitur Biner: Nilai Tinggi, Kehadiran Rendah\n",
    "df['high_score_low_attendance'] = ((df['score'] >= 90) & (df['attendance_percentage'] < 60)).astype(int)\n",
    "\n",
    "# Pilih fitur-fitur yang akan digunakan untuk model\n",
    "features_for_model = [\n",
    "    'score',\n",
    "    'attendance_percentage',\n",
    "    'historical_avg_score',\n",
    "    'score_jump',\n",
    "    'z_score_deviation',\n",
    "    'high_score_low_attendance'\n",
    "]\n",
    "\n",
    "X = df[features_for_model].fillna(0) # Isi nilai NaN yang mungkin ada dengan 0\n",
    "\n",
    "print(\"Feature Engineering selesai.\")\n",
    "X.head()"
   ]
  },
  {
   "cell_type": "code",
   "execution_count": 4,
   "id": "c233546d",
   "metadata": {},
   "outputs": [
    {
     "name": "stdout",
     "output_type": "stream",
     "text": [
      "Model berhasil dilatih.\n"
     ]
    }
   ],
   "source": [
    "# Inisialisasi Scaler\n",
    "scaler = StandardScaler()\n",
    "X_scaled = scaler.fit_transform(X)\n",
    "\n",
    "# Inisialisasi dan latih model Isolation Forest\n",
    "# contamination='auto' adalah pilihan yang baik untuk memulai\n",
    "model = IsolationForest(contamination='auto', random_state=42)\n",
    "model.fit(X_scaled)\n",
    "\n",
    "print(\"Model berhasil dilatih.\")"
   ]
  },
  {
   "cell_type": "code",
   "execution_count": 5,
   "id": "c4f023d1",
   "metadata": {},
   "outputs": [
    {
     "name": "stdout",
     "output_type": "stream",
     "text": [
      "Model berhasil disimpan di: ../../ml_models/miko_fraud_detection_model.pkl\n",
      "Scaler berhasil disimpan di: ../../ml_models/miko_fraud_detection_scaler.pkl\n"
     ]
    }
   ],
   "source": [
    "# Definisikan path\n",
    "MODEL_PATH = '../../ml_models/miko_fraud_detection_model.pkl'\n",
    "SCALER_PATH = '../../ml_models/miko_fraud_detection_scaler.pkl'\n",
    "\n",
    "# Simpan model\n",
    "with open(MODEL_PATH, 'wb') as f:\n",
    "    pickle.dump(model, f)\n",
    "print(f\"Model berhasil disimpan di: {MODEL_PATH}\")\n",
    "\n",
    "# Simpan scaler\n",
    "with open(SCALER_PATH, 'wb') as f:\n",
    "    pickle.dump(scaler, f)\n",
    "print(f\"Scaler berhasil disimpan di: {SCALER_PATH}\")"
   ]
  },
  {
   "cell_type": "code",
   "execution_count": 6,
   "id": "e4f305c6",
   "metadata": {},
   "outputs": [
    {
     "name": "stdout",
     "output_type": "stream",
     "text": [
      "📌 Contoh mahasiswa yang terdeteksi anomali:\n"
     ]
    },
    {
     "ename": "KeyError",
     "evalue": "'anomaly_flag'",
     "output_type": "error",
     "traceback": [
      "\u001b[1;31m---------------------------------------------------------------------------\u001b[0m",
      "\u001b[1;31mKeyError\u001b[0m                                  Traceback (most recent call last)",
      "File \u001b[1;32m~\\AppData\\Roaming\\Python\\Python312\\site-packages\\pandas\\core\\indexes\\base.py:3805\u001b[0m, in \u001b[0;36mIndex.get_loc\u001b[1;34m(self, key)\u001b[0m\n\u001b[0;32m   3804\u001b[0m \u001b[38;5;28;01mtry\u001b[39;00m:\n\u001b[1;32m-> 3805\u001b[0m     \u001b[38;5;28;01mreturn\u001b[39;00m \u001b[38;5;28;43mself\u001b[39;49m\u001b[38;5;241;43m.\u001b[39;49m\u001b[43m_engine\u001b[49m\u001b[38;5;241;43m.\u001b[39;49m\u001b[43mget_loc\u001b[49m\u001b[43m(\u001b[49m\u001b[43mcasted_key\u001b[49m\u001b[43m)\u001b[49m\n\u001b[0;32m   3806\u001b[0m \u001b[38;5;28;01mexcept\u001b[39;00m \u001b[38;5;167;01mKeyError\u001b[39;00m \u001b[38;5;28;01mas\u001b[39;00m err:\n",
      "File \u001b[1;32mindex.pyx:167\u001b[0m, in \u001b[0;36mpandas._libs.index.IndexEngine.get_loc\u001b[1;34m()\u001b[0m\n",
      "File \u001b[1;32mindex.pyx:196\u001b[0m, in \u001b[0;36mpandas._libs.index.IndexEngine.get_loc\u001b[1;34m()\u001b[0m\n",
      "File \u001b[1;32mpandas\\\\_libs\\\\hashtable_class_helper.pxi:7081\u001b[0m, in \u001b[0;36mpandas._libs.hashtable.PyObjectHashTable.get_item\u001b[1;34m()\u001b[0m\n",
      "File \u001b[1;32mpandas\\\\_libs\\\\hashtable_class_helper.pxi:7089\u001b[0m, in \u001b[0;36mpandas._libs.hashtable.PyObjectHashTable.get_item\u001b[1;34m()\u001b[0m\n",
      "\u001b[1;31mKeyError\u001b[0m: 'anomaly_flag'",
      "\nThe above exception was the direct cause of the following exception:\n",
      "\u001b[1;31mKeyError\u001b[0m                                  Traceback (most recent call last)",
      "Cell \u001b[1;32mIn[6], line 2\u001b[0m\n\u001b[0;32m      1\u001b[0m \u001b[38;5;28mprint\u001b[39m(\u001b[38;5;124m\"\u001b[39m\u001b[38;5;124m📌 Contoh mahasiswa yang terdeteksi anomali:\u001b[39m\u001b[38;5;124m\"\u001b[39m)\n\u001b[1;32m----> 2\u001b[0m anomali_mahasiswa \u001b[38;5;241m=\u001b[39m df[\u001b[43mdf\u001b[49m\u001b[43m[\u001b[49m\u001b[38;5;124;43m'\u001b[39;49m\u001b[38;5;124;43manomaly_flag\u001b[39;49m\u001b[38;5;124;43m'\u001b[39;49m\u001b[43m]\u001b[49m \u001b[38;5;241m==\u001b[39m \u001b[38;5;241m-\u001b[39m\u001b[38;5;241m1\u001b[39m]\n\u001b[0;32m      3\u001b[0m display(anomali_mahasiswa[[\u001b[38;5;124m'\u001b[39m\u001b[38;5;124mstu_id\u001b[39m\u001b[38;5;124m'\u001b[39m, \u001b[38;5;124m'\u001b[39m\u001b[38;5;124mscore\u001b[39m\u001b[38;5;124m'\u001b[39m, \u001b[38;5;124m'\u001b[39m\u001b[38;5;124mattendance_percentage\u001b[39m\u001b[38;5;124m'\u001b[39m, \u001b[38;5;124m'\u001b[39m\u001b[38;5;124mscore_jump\u001b[39m\u001b[38;5;124m'\u001b[39m, \u001b[38;5;124m'\u001b[39m\u001b[38;5;124mz_score_deviation\u001b[39m\u001b[38;5;124m'\u001b[39m, \u001b[38;5;124m'\u001b[39m\u001b[38;5;124manomaly_score_normalized\u001b[39m\u001b[38;5;124m'\u001b[39m]]\u001b[38;5;241m.\u001b[39msort_values(by\u001b[38;5;241m=\u001b[39m\u001b[38;5;124m'\u001b[39m\u001b[38;5;124manomaly_score_normalized\u001b[39m\u001b[38;5;124m'\u001b[39m, ascending\u001b[38;5;241m=\u001b[39m\u001b[38;5;28;01mTrue\u001b[39;00m)\u001b[38;5;241m.\u001b[39mhead(\u001b[38;5;241m10\u001b[39m))\n",
      "File \u001b[1;32m~\\AppData\\Roaming\\Python\\Python312\\site-packages\\pandas\\core\\frame.py:4102\u001b[0m, in \u001b[0;36mDataFrame.__getitem__\u001b[1;34m(self, key)\u001b[0m\n\u001b[0;32m   4100\u001b[0m \u001b[38;5;28;01mif\u001b[39;00m \u001b[38;5;28mself\u001b[39m\u001b[38;5;241m.\u001b[39mcolumns\u001b[38;5;241m.\u001b[39mnlevels \u001b[38;5;241m>\u001b[39m \u001b[38;5;241m1\u001b[39m:\n\u001b[0;32m   4101\u001b[0m     \u001b[38;5;28;01mreturn\u001b[39;00m \u001b[38;5;28mself\u001b[39m\u001b[38;5;241m.\u001b[39m_getitem_multilevel(key)\n\u001b[1;32m-> 4102\u001b[0m indexer \u001b[38;5;241m=\u001b[39m \u001b[38;5;28;43mself\u001b[39;49m\u001b[38;5;241;43m.\u001b[39;49m\u001b[43mcolumns\u001b[49m\u001b[38;5;241;43m.\u001b[39;49m\u001b[43mget_loc\u001b[49m\u001b[43m(\u001b[49m\u001b[43mkey\u001b[49m\u001b[43m)\u001b[49m\n\u001b[0;32m   4103\u001b[0m \u001b[38;5;28;01mif\u001b[39;00m is_integer(indexer):\n\u001b[0;32m   4104\u001b[0m     indexer \u001b[38;5;241m=\u001b[39m [indexer]\n",
      "File \u001b[1;32m~\\AppData\\Roaming\\Python\\Python312\\site-packages\\pandas\\core\\indexes\\base.py:3812\u001b[0m, in \u001b[0;36mIndex.get_loc\u001b[1;34m(self, key)\u001b[0m\n\u001b[0;32m   3807\u001b[0m     \u001b[38;5;28;01mif\u001b[39;00m \u001b[38;5;28misinstance\u001b[39m(casted_key, \u001b[38;5;28mslice\u001b[39m) \u001b[38;5;129;01mor\u001b[39;00m (\n\u001b[0;32m   3808\u001b[0m         \u001b[38;5;28misinstance\u001b[39m(casted_key, abc\u001b[38;5;241m.\u001b[39mIterable)\n\u001b[0;32m   3809\u001b[0m         \u001b[38;5;129;01mand\u001b[39;00m \u001b[38;5;28many\u001b[39m(\u001b[38;5;28misinstance\u001b[39m(x, \u001b[38;5;28mslice\u001b[39m) \u001b[38;5;28;01mfor\u001b[39;00m x \u001b[38;5;129;01min\u001b[39;00m casted_key)\n\u001b[0;32m   3810\u001b[0m     ):\n\u001b[0;32m   3811\u001b[0m         \u001b[38;5;28;01mraise\u001b[39;00m InvalidIndexError(key)\n\u001b[1;32m-> 3812\u001b[0m     \u001b[38;5;28;01mraise\u001b[39;00m \u001b[38;5;167;01mKeyError\u001b[39;00m(key) \u001b[38;5;28;01mfrom\u001b[39;00m\u001b[38;5;250m \u001b[39m\u001b[38;5;21;01merr\u001b[39;00m\n\u001b[0;32m   3813\u001b[0m \u001b[38;5;28;01mexcept\u001b[39;00m \u001b[38;5;167;01mTypeError\u001b[39;00m:\n\u001b[0;32m   3814\u001b[0m     \u001b[38;5;66;03m# If we have a listlike key, _check_indexing_error will raise\u001b[39;00m\n\u001b[0;32m   3815\u001b[0m     \u001b[38;5;66;03m#  InvalidIndexError. Otherwise we fall through and re-raise\u001b[39;00m\n\u001b[0;32m   3816\u001b[0m     \u001b[38;5;66;03m#  the TypeError.\u001b[39;00m\n\u001b[0;32m   3817\u001b[0m     \u001b[38;5;28mself\u001b[39m\u001b[38;5;241m.\u001b[39m_check_indexing_error(key)\n",
      "\u001b[1;31mKeyError\u001b[0m: 'anomaly_flag'"
     ]
    }
   ],
   "source": [
    "print(\"📌 Contoh mahasiswa yang terdeteksi anomali:\")\n",
    "anomali_mahasiswa = df[df['anomaly_flag'] == -1]\n",
    "display(anomali_mahasiswa[['stu_id', 'score', 'attendance_percentage', 'score_jump', 'z_score_deviation', 'anomaly_score_normalized']].sort_values(by='anomaly_score_normalized', ascending=True).head(10))\n"
   ]
  }
 ],
 "metadata": {
  "kernelspec": {
   "display_name": "Python 3",
   "language": "python",
   "name": "python3"
  },
  "language_info": {
   "codemirror_mode": {
    "name": "ipython",
    "version": 3
   },
   "file_extension": ".py",
   "mimetype": "text/x-python",
   "name": "python",
   "nbconvert_exporter": "python",
   "pygments_lexer": "ipython3",
   "version": "3.12.6"
  }
 },
 "nbformat": 4,
 "nbformat_minor": 5
}
